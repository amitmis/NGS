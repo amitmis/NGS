{
 "cells": [
  {
   "cell_type": "code",
   "execution_count": 1,
   "metadata": {},
   "outputs": [],
   "source": [
    "def overlap(a, b, min_length=3):\n",
    "    \"\"\" Return length of longest suffix of 'a' matching\n",
    "        a prefix of 'b' that is at least 'min_length'\n",
    "        characters long.  If no such overlap exists,\n",
    "        return 0. \"\"\"\n",
    "    start = 0  # start all the way at the left\n",
    "    while True:\n",
    "        start = a.find(b[:min_length], start)  # look for b's prefix in a\n",
    "        if start == -1:  # no more occurrences to right\n",
    "            return 0\n",
    "        # found occurrence; check for full suffix/prefix match\n",
    "        if b.startswith(a[start:]):\n",
    "            return len(a)-start\n",
    "        start += 1  # move just past previous match"
   ]
  },
  {
   "cell_type": "code",
   "execution_count": 59,
   "metadata": {},
   "outputs": [
    {
     "data": {
      "text/plain": [
       "7"
      ]
     },
     "execution_count": 59,
     "metadata": {},
     "output_type": "execute_result"
    }
   ],
   "source": [
    "overlap('ATTCGGG','ATTCGGGATT')"
   ]
  },
  {
   "cell_type": "code",
   "execution_count": 61,
   "metadata": {},
   "outputs": [],
   "source": [
    "import itertools\n",
    "\n",
    "def scs(ss):\n",
    "    \"\"\" Returns shortest common superstring of given strings,\n",
    "        assuming no string is a strict substring of another \"\"\"\n",
    "    shortest_sup = None\n",
    "    for ssperm in itertools.permutations(ss):\n",
    "        print(ssperm)\n",
    "        sup = ssperm[0]\n",
    "        for i in range(len(ss)-1):\n",
    "            olen = overlap(ssperm[i], ssperm[i+1], min_length=1)\n",
    "            sup += ssperm[i+1][olen:]\n",
    "        if shortest_sup is None or len(sup) < len(shortest_sup):\n",
    "            shortest_sup = sup\n",
    "    return shortest_sup"
   ]
  },
  {
   "cell_type": "code",
   "execution_count": 62,
   "metadata": {},
   "outputs": [
    {
     "name": "stdout",
     "output_type": "stream",
     "text": [
      "('ATTCGGG', 'ATGGGCCT')\n",
      "('ATGGGCCT', 'ATTCGGG')\n"
     ]
    },
    {
     "data": {
      "text/plain": [
       "'ATTCGGGATGGGCCT'"
      ]
     },
     "execution_count": 62,
     "metadata": {},
     "output_type": "execute_result"
    }
   ],
   "source": [
    "scs(['ATTCGGG','ATGGGCCT'])"
   ]
  },
  {
   "cell_type": "code",
   "execution_count": 22,
   "metadata": {},
   "outputs": [],
   "source": [
    "# fp = open('Downloads/assignments/_c1223813227b2ecec3e60224e6f070e4_dataset1.txt')\n",
    "# fp.readlines(6)\n",
    "\n",
    "\n",
    "with open('Downloads/assignments/_c1223813227b2ecec3e60224e6f070e4_dataset1.txt') as f:\n",
    "    content = f.readlines()\n",
    "# you may also want to remove whitespace characters like `\\n` at the end of each line\n",
    "content = [x.strip() for x in content] "
   ]
  },
  {
   "cell_type": "code",
   "execution_count": 60,
   "metadata": {},
   "outputs": [
    {
     "name": "stdout",
     "output_type": "stream",
     "text": [
      "['AAAAAAAAAAAAAAATATTTTTATTAAATAATTAAAATAAGAAAAAATAAAAATATAATTATTAATATTTATATTTATTTTTTTTATAAAAATAATATTT', 'AAAAAAAAAAAAAAATTAAAAATTTTAATTCTTGTAAATTTAATATATATAATCAAAAAAAAACTTTTAAATTTTTAGATTTACATAATTTTTATAAATT', 'AAAAAAAAAAAAAAATTATTTTTTAAATTATAAAAATATTTTTTTAAAATATTTTTACTTTAAAAAATTATATATAAATATTATATATAAATTTAAAGGA']\n"
     ]
    },
    {
     "data": {
      "text/plain": [
       "'AAAAAAAAAAAAAAATATTTTTATTAAATAATTAAAATAAGAAAAAATAAAAATATAATTATTAATATTTATATTTATTTTTTTTATAAAAATAATATTTAAAAAAAAAAAAAAATTATTTTTTAAATTATAAAAATATTTTTTTAAAATATTTTTACTTTAAAAAATTATATATAAATATTATATATAAATTTAAAGGAAAAAAAAAAAAAAATTAAAAATTTTAATTCTTGTAAATTTAATATATATAATCAAAAAAAAACTTTTAAATTTTTAGATTTACATAATTTTTATAAATT'"
      ]
     },
     "execution_count": 60,
     "metadata": {},
     "output_type": "execute_result"
    }
   ],
   "source": [
    "print(content[:3])\n",
    "scs(content[:3])"
   ]
  },
  {
   "cell_type": "code",
   "execution_count": 46,
   "metadata": {},
   "outputs": [
    {
     "data": {
      "text/plain": [
       "299"
      ]
     },
     "execution_count": 46,
     "metadata": {},
     "output_type": "execute_result"
    }
   ],
   "source": [
    "s=\"AAAAAAAAAAAAAAATATTTTTATTAAATAATTAAAATAAGAAAAAATAAAAATATAATTATTAATATTTATATTTATTTTTTTTATAAAAATAATATTTAAAAAAAAAAAAAAATTATTTTTTAAATTATAAAAATATTTTTTTAAAATATTTTTACTTTAAAAAATTATATATAAATATTATATATAAATTTAAAGGAAAAAAAAAAAAAAATTAAAAATTTTAATTCTTGTAAATTTAATATATATAATCAAAAAAAAACTTTTAAATTTTTAGATTTACATAATTTTTATAAATT\"\n",
    "len(s)"
   ]
  },
  {
   "cell_type": "code",
   "execution_count": 48,
   "metadata": {},
   "outputs": [
    {
     "data": {
      "text/plain": [
       "300"
      ]
     },
     "execution_count": 48,
     "metadata": {},
     "output_type": "execute_result"
    }
   ],
   "source": [
    "a=\"AAAAAAAAAAAAAAATATTTTTATTAAATAATTAAAATAAGAAAAAATAAAAATATAATTATTAATATTTATATTTATTTTTTTTATAAAAATAATATTTAAAAAAAAAAAAAAATTAAAAATTTTAATTCTTGTAAATTTAATATATATAATCAAAAAAAAACTTTTAAATTTTTAGATTTACATAATTTTTATAAATTAAAAAAAAAAAAAAATTATTTTTTAAATTATAAAAATATTTTTTTAAAATATTTTTACTTTAAAAAATTATATATAAATATTATATATAAATTTAAAGGA\"\n",
    "len(a)"
   ]
  }
 ],
 "metadata": {
  "kernelspec": {
   "display_name": "Python 3",
   "language": "python",
   "name": "python3"
  },
  "language_info": {
   "codemirror_mode": {
    "name": "ipython",
    "version": 3
   },
   "file_extension": ".py",
   "mimetype": "text/x-python",
   "name": "python",
   "nbconvert_exporter": "python",
   "pygments_lexer": "ipython3",
   "version": "3.6.4"
  }
 },
 "nbformat": 4,
 "nbformat_minor": 2
}
