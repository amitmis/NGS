{
 "cells": [
  {
   "cell_type": "markdown",
   "metadata": {},
   "source": [
    "# To Find overlaps"
   ]
  },
  {
   "cell_type": "code",
   "execution_count": 1,
   "metadata": {},
   "outputs": [],
   "source": [
    "def overlap(a, b, min_length=3):\n",
    "    \"\"\" Return length of longest suffix of 'a' matching\n",
    "        a prefix of 'b' that is at least 'min_length'\n",
    "        characters long.  If no such overlap exists,\n",
    "        return 0. \"\"\"\n",
    "    start = 0  # start all the way at the left\n",
    "    while True:\n",
    "        start = a.find(b[:min_length], start)  # look for b's prefix in a\n",
    "        if start == -1:  # no more occurrences to right\n",
    "            return 0\n",
    "        # found occurrence; check for full suffix/prefix match\n",
    "        if b.startswith(a[start:]):\n",
    "            return len(a)-start\n",
    "        start += 1  # move just past previous match"
   ]
  },
  {
   "cell_type": "code",
   "execution_count": 2,
   "metadata": {},
   "outputs": [],
   "source": [
    "import itertools\n",
    "\n",
    "def scs(ss):\n",
    "    \"\"\" Returns shortest common superstring of given strings,\n",
    "        assuming no string is a strict substring of another \"\"\"\n",
    "    shortest_sup = None\n",
    "    for ssperm in itertools.permutations(ss):\n",
    "        sup = ssperm[0]\n",
    "        for i in range(len(ss)-1):\n",
    "            olen = overlap(ssperm[i], ssperm[i+1], min_length=1)\n",
    "            sup += ssperm[i+1][olen:]\n",
    "        if shortest_sup is None or len(sup) < len(shortest_sup):\n",
    "            shortest_sup = sup\n",
    "    return shortest_sup"
   ]
  },
  {
   "cell_type": "markdown",
   "metadata": {},
   "source": [
    "# Superstring method to get genome from reads"
   ]
  },
  {
   "cell_type": "code",
   "execution_count": 73,
   "metadata": {},
   "outputs": [
    {
     "name": "stdout",
     "output_type": "stream",
     "text": [
      "0.0002002716064453125\n"
     ]
    }
   ],
   "source": [
    "import time\n",
    "start = time.time()\n",
    "scs(['ACGGATGAGC', 'GAGCGGA', 'GAGCGAG'])\n",
    "end = time.time()\n",
    "print(end - start)\n"
   ]
  },
  {
   "cell_type": "markdown",
   "metadata": {},
   "source": [
    "# Reading the K-mers data"
   ]
  },
  {
   "cell_type": "code",
   "execution_count": 4,
   "metadata": {},
   "outputs": [],
   "source": [
    "with open('Downloads/assignments/_c1223813227b2ecec3e60224e6f070e4_dataset1.txt') as f:\n",
    "        c = f.readlines()\n",
    "c = [x.strip() for x in c]"
   ]
  },
  {
   "cell_type": "code",
   "execution_count": 8,
   "metadata": {},
   "outputs": [
    {
     "data": {
      "text/plain": [
       "['AAAAAAAAAAAAAAATATTTTTATTAAATAATTAAAATAAGAAAAAATAAAAATATAATTATTAATATTTATATTTATTTTTTTTATAAAAATAATATTT',\n",
       " 'AAAAAAAAAAAAAAATTAAAAATTTTAATTCTTGTAAATTTAATATATATAATCAAAAAAAAACTTTTAAATTTTTAGATTTACATAATTTTTATAAATT',\n",
       " 'AAAAAAAAAAAAAAATTATTTTTTAAATTATAAAAATATTTTTTTAAAATATTTTTACTTTAAAAAATTATATATAAATATTATATATAAATTTAAAGGA',\n",
       " 'AAAAAAAAAAAAACAATCTTTTAATAGAAGAATAAAATAAGAGTTAACATCTAAAAAATCAATGAATCTTTTATGTGTTGTTATTTGAAAATGATCTCTA',\n",
       " 'AAAAAAAAAAAAATAATTATATTCTTTATTTATTTCAATAAAGATATATTTATTATTGTAAATATTTTCTATATTTATAAAAAATAAATCTTTTTTTTTA',\n",
       " 'AAAAAAAAAAAAATTAATAAAAAAAAATATTTTTTTTAAAAACTTTATATTTAACAATTTATATAAAAAAAATTTTAAATTTATAAATTTTAATTTTTTT',\n",
       " 'AAAAAAAAAAAACAATCTTTTAATAGAAGAATAAAATAAGAGTTAACATCTAAAAAATCAATGAATCTTTTATGTGTTGTTATTTGAAAATGATCTCTAG',\n",
       " 'AAAAAAAAAAAATATAAAATATAAAAAATGTTAAAAAAATATTTATCAATAAATTTTTTGTTAATTATAAATTTCGAATATAATTTTAAATCTTTATTAT',\n",
       " 'AAAAAAAAAAAATATTTTTATTCAATTTAAAAATATTTTTTTTTATAATAATTTCTTTTATAATAATATTTATATTTTTAATAAATTAAAAAAAGCAAAT']"
      ]
     },
     "execution_count": 8,
     "metadata": {},
     "output_type": "execute_result"
    }
   ],
   "source": [
    "c[1:10]"
   ]
  },
  {
   "cell_type": "code",
   "execution_count": 11,
   "metadata": {},
   "outputs": [
    {
     "data": {
      "text/plain": [
       "900"
      ]
     },
     "execution_count": 11,
     "metadata": {},
     "output_type": "execute_result"
    }
   ],
   "source": [
    "s=\"AAAAAAAAAAAAAAATATTTTTATTAAATAATTAAAATAAGAAAAAATAAAAATATAATTATTAATATTTATATTTATTTTTTTTATAAAAATAATATTTAAAAAAAAAAAAAAATTAAAAATTTTAATTCTTGTAAATTTAATATATATAATCAAAAAAAAACTTTTAAATTTTTAGATTTACATAATTTTTATAAATTAAAAAAAAAAAAAAATTATTTTTTAAATTATAAAAATATTTTTTTAAAATATTTTTACTTTAAAAAATTATATATAAATATTATATATAAATTTAAAGGAAAAAAAAAAAAAACAATCTTTTAATAGAAGAATAAAATAAGAGTTAACATCTAAAAAATCAATGAATCTTTTATGTGTTGTTATTTGAAAATGATCTCTAAAAAAAAAAAAAATAATTATATTCTTTATTTATTTCAATAAAGATATATTTATTATTGTAAATATTTTCTATATTTATAAAAAATAAATCTTTTTTTTTAAAAAAAAAAAAAATTAATAAAAAAAAATATTTTTTTTAAAAACTTTATATTTAACAATTTATATAAAAAAAATTTTAAATTTATAAATTTTAATTTTTTTAAAAAAAAAAAACAATCTTTTAATAGAAGAATAAAATAAGAGTTAACATCTAAAAAATCAATGAATCTTTTATGTGTTGTTATTTGAAAATGATCTCTAGAAAAAAAAAAAATATAAAATATAAAAAATGTTAAAAAAATATTTATCAATAAATTTTTTGTTAATTATAAATTTCGAATATAATTTTAAATCTTTATTATAAAAAAAAAAAATATTTTTATTCAATTTAAAAATATTTTTTTTTATAATAATTTCTTTTATAATAATATTTATATTTTTAATAAATTAAAAAAAGCAAAT\"\n",
    "len(s) "
   ]
  },
  {
   "cell_type": "code",
   "execution_count": 74,
   "metadata": {},
   "outputs": [],
   "source": [
    "p = scs(c[1:10])"
   ]
  },
  {
   "cell_type": "code",
   "execution_count": 15,
   "metadata": {},
   "outputs": [
    {
     "data": {
      "text/plain": [
       "'AAAAAAAAAAAAAAATATTTTTATTAAATAATTAAAATAAGAAAAAATAAAAATATAATTATTAATATTTATATTTATTTTTTTTATAAAAATAATATTTAAAAAAAAAAAAAAATTAAAAATTTTAATTCTTGTAAATTTAATATATATAATCAAAAAAAAACTTTTAAATTTTTAGATTTACATAATTTTTATAAATTAAAAAAAAAAAAAAATTATTTTTTAAATTATAAAAATATTTTTTTAAAATATTTTTACTTTAAAAAATTATATATAAATATTATATATAAATTTAAAGGAAAAAAAAAAAAACAATCTTTTAATAGAAGAATAAAATAAGAGTTAACATCTAAAAAATCAATGAATCTTTTATGTGTTGTTATTTGAAAATGATCTCTAGAAAAAAAAAAAAATAATTATATTCTTTATTTATTTCAATAAAGATATATTTATTATTGTAAATATTTTCTATATTTATAAAAAATAAATCTTTTTTTTTAAAAAAAAAAAAATTAATAAAAAAAAATATTTTTTTTAAAAACTTTATATTTAACAATTTATATAAAAAAAATTTTAAATTTATAAATTTTAATTTTTTTAAAAAAAAAAAATATAAAATATAAAAAATGTTAAAAAAATATTTATCAATAAATTTTTTGTTAATTATAAATTTCGAATATAATTTTAAATCTTTATTATAAAAAAAAAAAATATTTTTATTCAATTTAAAAATATTTTTTTTTATAATAATTTCTTTTATAATAATATTTATATTTTTAATAAATTAAAAAAAGCAAAT'"
      ]
     },
     "execution_count": 15,
     "metadata": {},
     "output_type": "execute_result"
    }
   ],
   "source": [
    "p"
   ]
  },
  {
   "cell_type": "markdown",
   "metadata": {},
   "source": [
    "# Finding an Eulerian cycle in a graph"
   ]
  },
  {
   "cell_type": "code",
   "execution_count": 18,
   "metadata": {},
   "outputs": [
    {
     "name": "stdout",
     "output_type": "stream",
     "text": [
      "Given directed graph is eulerian\n"
     ]
    }
   ],
   "source": [
    "from collections import defaultdict \n",
    "  \n",
    "class Graph(): \n",
    "  \n",
    "    def __init__(self, vertices): \n",
    "        self.V = vertices \n",
    "        self.graph = defaultdict(list) \n",
    "        self.IN = [0] * vertices \n",
    "  \n",
    "    def addEdge(self, v, u): \n",
    "  \n",
    "        self.graph[v].append(u) \n",
    "        self.IN[u] += 1\n",
    "  \n",
    "    def DFSUtil(self, v, visited): \n",
    "        visited[v] = True\n",
    "        for node in self.graph[v]: \n",
    "            if visited[node] == False: \n",
    "                self.DFSUtil(node, visited) \n",
    "  \n",
    "    def getTranspose(self): \n",
    "        gr = Graph(self.V) \n",
    "  \n",
    "        for node in range(self.V): \n",
    "            for child in self.graph[node]: \n",
    "                gr.addEdge(child, node) \n",
    "  \n",
    "        return gr \n",
    "  \n",
    "    def isSC(self): \n",
    "        visited = [False] * self.V \n",
    "  \n",
    "        v = 0\n",
    "        for v in range(self.V): \n",
    "            if len(self.graph[v]) > 0: \n",
    "                break\n",
    "  \n",
    "        self.DFSUtil(v, visited) \n",
    "  \n",
    "        # If DFS traversal doesn't visit all  \n",
    "        # vertices, then return false. \n",
    "        for i in range(self.V): \n",
    "            if visited[i] == False: \n",
    "                return False\n",
    "  \n",
    "        gr = self.getTranspose() \n",
    "  \n",
    "        visited = [False] * self.V \n",
    "        gr.DFSUtil(v, visited) \n",
    "  \n",
    "        for i in range(self.V): \n",
    "            if visited[i] == False: \n",
    "                return False\n",
    "  \n",
    "        return True\n",
    "  \n",
    "    def isEulerianCycle(self): \n",
    "  \n",
    "        # Check if all non-zero degree vertices  \n",
    "        # are connected \n",
    "        if self.isSC() == False: \n",
    "            return False\n",
    "  \n",
    "        # Check if in degree and out degree of  \n",
    "        # every vertex is same \n",
    "        for v in range(self.V): \n",
    "            if len(self.graph[v]) != self.IN[v]: \n",
    "                return False\n",
    "  \n",
    "        return True\n",
    "  \n",
    "  \n",
    "g = Graph(5); \n",
    "g.addEdge(1, 0); \n",
    "g.addEdge(0, 2); \n",
    "g.addEdge(2, 1); \n",
    "g.addEdge(0, 3); \n",
    "g.addEdge(3, 4); \n",
    "g.addEdge(4, 0); \n",
    "if g.isEulerianCycle(): \n",
    "   print(\"Given directed graph is eulerian\") \n",
    "else: \n",
    "   print(\"Given directed graph is NOT eulerian\") "
   ]
  },
  {
   "cell_type": "markdown",
   "metadata": {},
   "source": [
    "# De-Burjian Algo"
   ]
  },
  {
   "cell_type": "code",
   "execution_count": 19,
   "metadata": {},
   "outputs": [],
   "source": [
    " "
   ]
  },
  {
   "cell_type": "code",
   "execution_count": 20,
   "metadata": {},
   "outputs": [],
   "source": [
    "nodes, edges = de_bruijn_ize(\"ACGCGTCG\", 3)"
   ]
  },
  {
   "cell_type": "code",
   "execution_count": 22,
   "metadata": {},
   "outputs": [
    {
     "data": {
      "text/plain": [
       "[('AC', 'CG'),\n",
       " ('CG', 'GC'),\n",
       " ('GC', 'CG'),\n",
       " ('CG', 'GT'),\n",
       " ('GT', 'TC'),\n",
       " ('TC', 'CG')]"
      ]
     },
     "execution_count": 22,
     "metadata": {},
     "output_type": "execute_result"
    }
   ],
   "source": [
    "edges"
   ]
  },
  {
   "cell_type": "code",
   "execution_count": 72,
   "metadata": {},
   "outputs": [
    {
     "data": {
      "text/plain": [
       "{'AC', 'CG', 'GC', 'GT', 'TC'}"
      ]
     },
     "execution_count": 72,
     "metadata": {},
     "output_type": "execute_result"
    }
   ],
   "source": [
    "nodes\n"
   ]
  },
  {
   "cell_type": "code",
   "execution_count": 70,
   "metadata": {},
   "outputs": [
    {
     "name": "stdout",
     "output_type": "stream",
     "text": [
      "\n",
      "\n"
     ]
    }
   ],
   "source": [
    "\n",
    "from collections import defaultdict \n",
    "   \n",
    "#This class represents an undirected graph using adjacency list representation \n",
    "class Graph: \n",
    "   \n",
    "    def __init__(self,vertices): \n",
    "        self.V= vertices #No. of vertices \n",
    "        self.graph = defaultdict(list) # default dictionary to store graph \n",
    "        self.Time = 0\n",
    "   \n",
    "    # function to add an edge to graph \n",
    "    def addEdge(self,u,v): \n",
    "        self.graph[u].append(v) \n",
    "        self.graph[v].append(u) \n",
    "  \n",
    "    # This function removes edge u-v from graph     \n",
    "    def rmvEdge(self, u, v): \n",
    "        for index, key in enumerate(self.graph[u]): \n",
    "            if key == v: \n",
    "                self.graph[u].pop(index) \n",
    "        for index, key in enumerate(self.graph[v]): \n",
    "            if key == u: \n",
    "                self.graph[v].pop(index) \n",
    "  \n",
    "    # A DFS based function to count reachable vertices from v \n",
    "    def DFSCount(self, v, visited): \n",
    "        count = 1\n",
    "        visited[v] = True\n",
    "        for i in self.graph[v]: \n",
    "            if visited[i] == False: \n",
    "                count = count + self.DFSCount(i, visited)          \n",
    "        return count \n",
    "  \n",
    "    # The function to check if edge u-v can be considered as next edge in \n",
    "    # Euler Tour \n",
    "    def isValidNextEdge(self, u, v): \n",
    "        # The edge u-v is valid in one of the following two cases: \n",
    "   \n",
    "          #  1) If v is the only adjacent vertex of u \n",
    "        if len(self.graph[u]) == 1: \n",
    "            return True\n",
    "        else: \n",
    "            ''' \n",
    "             2) If there are multiple adjacents, then u-v is not a bridge \n",
    "                 Do following steps to check if u-v is a bridge \n",
    "   \n",
    "            2.a) count of vertices reachable from u'''    \n",
    "            visited =[False]*(self.V) \n",
    "            count1 = self.DFSCount(u, visited) \n",
    "  \n",
    "            '''2.b) Remove edge (u, v) and after removing the edge, count \n",
    "                vertices reachable from u'''\n",
    "            self.rmvEdge(u, v) \n",
    "            visited =[False]*(self.V) \n",
    "            count2 = self.DFSCount(u, visited) \n",
    "  \n",
    "            #2.c) Add the edge back to the graph \n",
    "            self.addEdge(u,v) \n",
    "  \n",
    "            # 2.d) If count1 is greater, then edge (u, v) is a bridge \n",
    "            return False if count1 > count2 else True\n",
    "  \n",
    "  \n",
    "    # Print Euler tour starting from vertex u \n",
    "    def printEulerUtil(self, u): \n",
    "        #Recur for all the vertices adjacent to this vertex \n",
    "        for v in self.graph[u]: \n",
    "            #If edge u-v is not removed and it's a a valid next edge \n",
    "            if self.isValidNextEdge(u, v): \n",
    "                print(\"%d-%d \" %(u,v)), \n",
    "                self.rmvEdge(u, v) \n",
    "                self.printEulerUtil(v) \n",
    "  \n",
    "  \n",
    "      \n",
    "    '''The main function that print Eulerian Trail. It first finds an odd \n",
    "   degree vertex (if there is any) and then calls printEulerUtil() \n",
    "   to print the path '''\n",
    "    def printEulerTour(self): \n",
    "        #Find a vertex with odd degree \n",
    "        u = 0\n",
    "        for i in range(self.V): \n",
    "            if len(self.graph[i]) %2 != 0 : \n",
    "                u = i \n",
    "                break\n",
    "        # Print tour starting from odd vertex \n",
    "        print (\"\\n\") \n",
    "        self.printEulerUtil(u) \n",
    "  \n",
    "# Create a graph given in the above diagram \n",
    "  \n",
    "g1 = Graph(6) \n",
    "g1.addEdge('AC', 'CG') \n",
    "g1.addEdge('CG', 'GC') \n",
    "g1.addEdge('GC', 'CG') \n",
    "g1.addEdge('CG', 'GT')\n",
    "g1.addEdge('GT', 'TC')\n",
    "g1.addEdge('TC', 'CG')\n",
    "g1.printEulerTour() "
   ]
  },
  {
   "cell_type": "code",
   "execution_count": 71,
   "metadata": {},
   "outputs": [],
   "source": []
  }
 ],
 "metadata": {
  "kernelspec": {
   "display_name": "Python 3",
   "language": "python",
   "name": "python3"
  },
  "language_info": {
   "codemirror_mode": {
    "name": "ipython",
    "version": 3
   },
   "file_extension": ".py",
   "mimetype": "text/x-python",
   "name": "python",
   "nbconvert_exporter": "python",
   "pygments_lexer": "ipython3",
   "version": "3.5.2"
  }
 },
 "nbformat": 4,
 "nbformat_minor": 2
}
